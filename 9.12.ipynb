{
 "cells": [
  {
   "cell_type": "markdown",
   "metadata": {},
   "source": [
    "# 选择\n",
    "## 布尔类型、数值和表达式\n",
    "![](../Photo/33.png)\n",
    "- 注意：比较运算符的相等是两个等到，一个等到代表赋值\n",
    "- 在Python中可以用整型0来代表False，其他数字来代表True\n",
    "- 后面还会讲到 is 在判断语句中的用发"
   ]
  },
  {
   "cell_type": "code",
   "execution_count": 5,
   "metadata": {},
   "outputs": [
    {
     "data": {
      "text/plain": [
       "True"
      ]
     },
     "execution_count": 5,
     "metadata": {},
     "output_type": "execute_result"
    }
   ],
   "source": [
    "1 == True"
   ]
  },
  {
   "cell_type": "markdown",
   "metadata": {},
   "source": [
    "## 字符串的比较使用ASCII值"
   ]
  },
  {
   "cell_type": "code",
   "execution_count": null,
   "metadata": {},
   "outputs": [],
   "source": [
    "#字符串和布尔类型不能比较 和整型也不能比较"
   ]
  },
  {
   "cell_type": "code",
   "execution_count": 6,
   "metadata": {},
   "outputs": [
    {
     "data": {
      "text/plain": [
       "True"
      ]
     },
     "execution_count": 6,
     "metadata": {},
     "output_type": "execute_result"
    }
   ],
   "source": [
    "0 < 10 < 100"
   ]
  },
  {
   "cell_type": "code",
   "execution_count": 7,
   "metadata": {},
   "outputs": [
    {
     "data": {
      "text/plain": [
       "True"
      ]
     },
     "execution_count": 7,
     "metadata": {},
     "output_type": "execute_result"
    }
   ],
   "source": [
    "0 < 60 < 70 < 80 < 90 "
   ]
  },
  {
   "cell_type": "code",
   "execution_count": 9,
   "metadata": {},
   "outputs": [
    {
     "name": "stdout",
     "output_type": "stream",
     "text": [
      "输入一个分数：91\n",
      "等级为：A\n"
     ]
    }
   ],
   "source": [
    "num = eval(input('输入一个分数：'))\n",
    "if 0 < num < 59:\n",
    "    print('等级为：不及格')\n",
    "elif 60 < num < 70:\n",
    "    print('等级为：D')\n",
    "elif 71 < num < 80:\n",
    "    print('等级为：C')\n",
    "elif 81 < num < 90:\n",
    "    print('等级为：B')\n",
    "else:\n",
    "    print('等级为：A')"
   ]
  },
  {
   "cell_type": "markdown",
   "metadata": {},
   "source": [
    "## Markdown \n",
    "- https://github.com/younghz/Markdown"
   ]
  },
  {
   "cell_type": "markdown",
   "metadata": {},
   "source": [
    "## EP:\n",
    "- <img src=\"../Photo/34.png\"></img>\n",
    "- 输入一个数字，判断其实奇数还是偶数"
   ]
  },
  {
   "cell_type": "markdown",
   "metadata": {},
   "source": [
    "## 产生随机数字\n",
    "- 函数random.randint(a,b) 可以用来产生一个a和b之间且包括a和b的随机整数"
   ]
  },
  {
   "cell_type": "code",
   "execution_count": 2,
   "metadata": {},
   "outputs": [
    {
     "name": "stdout",
     "output_type": "stream",
     "text": [
      "输入一个数0\n",
      "太小了\n",
      "输入一个数1\n",
      "猜对了\n"
     ]
    }
   ],
   "source": [
    "#产生一个随机数，若输入的数大于随机数，返回数太大了，反之 数太小了\n",
    "#一直输入，直到它满意为止\n",
    "import random\n",
    "#num = eval(input('输入一个数：'))\n",
    "suijishu = random.randint(1,5)\n",
    "while True:\n",
    "    input_num = eval(input('输入一个数'))\n",
    "    if input_num == suijishu:\n",
    "        print('猜对了')\n",
    "        break\n",
    "    elif input_num > suijishu:\n",
    "        print('太大了')\n",
    "    elif input_num < suijishu:\n",
    "        print('太小了')\n",
    "\n",
    "        \n",
    "        \n",
    "#if num >= 100:\n",
    " #   print('您输入的数太大了')\n",
    "#elif num <= 1:\n",
    " #   print('您输入的数太小了')\n",
    "#else:\n",
    " #   print(num)"
   ]
  },
  {
   "cell_type": "markdown",
   "metadata": {},
   "source": [
    "##  其他random方法\n",
    "- random.random 返回0.0到1.0之间前闭后开区间的随机浮点\n",
    "- random.randrange(a,b) 前闭后开"
   ]
  },
  {
   "cell_type": "code",
   "execution_count": 16,
   "metadata": {},
   "outputs": [
    {
     "data": {
      "text/plain": [
       "0.9135636246490751"
      ]
     },
     "execution_count": 16,
     "metadata": {},
     "output_type": "execute_result"
    }
   ],
   "source": [
    "random.random()"
   ]
  },
  {
   "cell_type": "code",
   "execution_count": 21,
   "metadata": {},
   "outputs": [
    {
     "data": {
      "text/plain": [
       "4"
      ]
     },
     "execution_count": 21,
     "metadata": {},
     "output_type": "execute_result"
    }
   ],
   "source": [
    "random.randrange(0,5,2)"
   ]
  },
  {
   "cell_type": "markdown",
   "metadata": {},
   "source": [
    "## EP：\n",
    "- 产生两个随机整数number1和number2，然后显示给用户，使用户输入数字的和，并判定其是否正确\n",
    "- 进阶:写一个随机序号点名程序"
   ]
  },
  {
   "cell_type": "code",
   "execution_count": 5,
   "metadata": {},
   "outputs": [
    {
     "name": "stdout",
     "output_type": "stream",
     "text": [
      "2 4\n",
      "输入两个随机数之和：5\n",
      "错误，请重新输入\n",
      "输入两个随机数之和：6\n",
      "正确\n"
     ]
    }
   ],
   "source": [
    "import random\n",
    "random_num1 = random.randint(1,5)\n",
    "random_num2 = random.randint(1,5)\n",
    "print(random_num1,random_num2)\n",
    "while True:\n",
    "    sum_ = eval(input('输入两个随机数之和：')) \n",
    "    if sum_ == random_num1 + random_num2:\n",
    "        print('正确')\n",
    "        break\n",
    "    else:\n",
    "        print(\"错误，请重新输入\")"
   ]
  },
  {
   "cell_type": "code",
   "execution_count": null,
   "metadata": {},
   "outputs": [],
   "source": [
    "#随即进行抽奖\n"
   ]
  },
  {
   "cell_type": "markdown",
   "metadata": {},
   "source": [
    "## if语句\n",
    "- 如果条件正确就执行一个单向if语句，亦即当条件为真的时候才执行if内部的语句\n",
    "- Python有很多选择语句:\n",
    "> - 单向if \n",
    "  - 双向if-else\n",
    "  - 嵌套if\n",
    "  - 多向if-elif-else\n",
    "  \n",
    "- 注意：当语句含有子语句的时候，那么一定至少要有一个缩进，也就是说如果有儿子存在，那么一定要缩进\n",
    "- 切记不可tab键和space混用，单用tab 或者 space\n",
    "- 当你输出的结果是无论if是否为真时都需要显示时，语句应该与if对齐"
   ]
  },
  {
   "cell_type": "code",
   "execution_count": 1,
   "metadata": {},
   "outputs": [
    {
     "name": "stdout",
     "output_type": "stream",
     "text": [
      "年龄：31\n",
      "太老了\n"
     ]
    }
   ],
   "source": [
    "age = eval(input('年龄：'))\n",
    "if age <= 30:\n",
    "    look = input('长相：帅，丑')\n",
    "    if look == '帅':\n",
    "        money =input('收入：高或中等，低')\n",
    "        if money == '高或中等':\n",
    "            gwy = input('是否为公务员：')\n",
    "            if gwy == '是':\n",
    "                print('可以见面')\n",
    "            else:\n",
    "                print('不见')\n",
    "        else:\n",
    "            print('没工作')\n",
    "    else:\n",
    "        print('太丑了')\n",
    "else:\n",
    "    print('太老了')"
   ]
  },
  {
   "cell_type": "markdown",
   "metadata": {},
   "source": [
    "## EP：\n",
    "- 用户输入一个数字，判断其实奇数还是偶数\n",
    "- 进阶：可以查看下4.5实例研究猜生日"
   ]
  },
  {
   "cell_type": "markdown",
   "metadata": {},
   "source": [
    "## 双向if-else 语句\n",
    "- 如果条件为真，那么走if内部语句，否则走else内部语句"
   ]
  },
  {
   "cell_type": "markdown",
   "metadata": {},
   "source": [
    "## EP：\n",
    "- 产生两个随机整数number1和number2，然后显示给用户，使用户输入数字，并判定其是否正确,如果正确打印“you‘re correct”，否则打印正确错误"
   ]
  },
  {
   "cell_type": "markdown",
   "metadata": {},
   "source": [
    "## 嵌套if 和多向if-elif-else\n",
    "![](../Photo/35.png)"
   ]
  },
  {
   "cell_type": "markdown",
   "metadata": {},
   "source": [
    "## EP：\n",
    "- 提示用户输入一个年份，然后显示表示这一年的动物\n",
    "![](../Photo/36.png)\n",
    "- 计算身体质量指数的程序\n",
    "- BMI = 以千克为单位的体重除以以米为单位的身高\n",
    "![](../Photo/37.png)"
   ]
  },
  {
   "cell_type": "code",
   "execution_count": 2,
   "metadata": {},
   "outputs": [
    {
     "name": "stdout",
     "output_type": "stream",
     "text": [
      "输入你的出生年份：1991\n",
      "羊\n"
     ]
    }
   ],
   "source": [
    "year = eval(input('输入你的出生年份：'))\n",
    "if year % 12 == 0:\n",
    "    print('猴')\n",
    "elif year % 12 == 1:\n",
    "    print('鸡')\n",
    "elif year % 12 == 2:\n",
    "    print('狗')\n",
    "elif year % 12 == 3:\n",
    "    print('猪')\n",
    "elif year % 12 == 4:\n",
    "    print('鼠')\n",
    "elif year % 12 == 5:\n",
    "    print('牛')\n",
    "elif year % 12 == 6:\n",
    "    print('虎')\n",
    "elif year % 12 == 7:\n",
    "    print('兔')\n",
    "elif year % 12 == 8:\n",
    "    print('龙')\n",
    "elif year % 12 == 9:\n",
    "    print('蛇')\n",
    "elif year % 12 == 10:\n",
    "    print('马')\n",
    "elif year % 12 == 11:\n",
    "    print('羊')"
   ]
  },
  {
   "cell_type": "code",
   "execution_count": 1,
   "metadata": {},
   "outputs": [
    {
     "name": "stdout",
     "output_type": "stream",
     "text": [
      "输入你的体重：kg56\n",
      "输入你的身高：m1.65\n",
      "标准\n"
     ]
    }
   ],
   "source": [
    "weight = eval(input('输入你的体重：kg'))\n",
    "height = eval(input('输入你的身高：m'))\n",
    "BMI = weight / (height**2) \n",
    "if BMI < 18.5:\n",
    "    print('超轻')\n",
    "elif 18.5 <= BMI <= 25.0:\n",
    "    print('标准')\n",
    "elif 25.0 <= BMI <= 30.0:\n",
    "    print('超重')\n",
    "elif BMI >= 30:\n",
    "    print('痴肥')"
   ]
  },
  {
   "cell_type": "markdown",
   "metadata": {},
   "source": [
    "## 逻辑运算符\n",
    "![](../Photo/38.png)"
   ]
  },
  {
   "cell_type": "markdown",
   "metadata": {},
   "source": [
    "![](../Photo/39.png)\n",
    "![](../Photo/40.png)"
   ]
  },
  {
   "cell_type": "code",
   "execution_count": 3,
   "metadata": {},
   "outputs": [
    {
     "data": {
      "text/plain": [
       "False"
      ]
     },
     "execution_count": 3,
     "metadata": {},
     "output_type": "execute_result"
    }
   ],
   "source": [
    "not True   #可以作为取反"
   ]
  },
  {
   "cell_type": "code",
   "execution_count": 5,
   "metadata": {},
   "outputs": [
    {
     "data": {
      "text/plain": [
       "False"
      ]
     },
     "execution_count": 5,
     "metadata": {},
     "output_type": "execute_result"
    }
   ],
   "source": [
    "a = [1,2,3]\n",
    "1 not in a"
   ]
  },
  {
   "cell_type": "code",
   "execution_count": null,
   "metadata": {},
   "outputs": [],
   "source": []
  },
  {
   "cell_type": "markdown",
   "metadata": {},
   "source": [
    "## EP：\n",
    "- 判定闰年：一个年份如果能被4整除但不能被100整除，或者能被400整除，那么这个年份就是闰年\n",
    "- 提示用户输入一个年份，并返回是否是闰年\n",
    "- 提示用户输入一个数字，判断其是否为水仙花数"
   ]
  },
  {
   "cell_type": "code",
   "execution_count": 8,
   "metadata": {},
   "outputs": [
    {
     "name": "stdout",
     "output_type": "stream",
     "text": [
      "输入年份：2008\n",
      "闰年\n"
     ]
    }
   ],
   "source": [
    "year = eval(input('输入年份：'))\n",
    "if (year % 4 == 0 and year % 100 != 0) or (year % 400 == 0):\n",
    "    print('闰年')"
   ]
  },
  {
   "cell_type": "code",
   "execution_count": 10,
   "metadata": {},
   "outputs": [
    {
     "name": "stdout",
     "output_type": "stream",
     "text": [
      "输入年份：2001\n",
      "不是闰年\n"
     ]
    }
   ],
   "source": [
    "year = eval(input('输入年份：'))\n",
    "if (year % 4 == 0 and year % 100 != 0) or (year % 400 == 0):\n",
    "    print('闰年')\n",
    "else:\n",
    "    print('不是闰年')"
   ]
  },
  {
   "cell_type": "code",
   "execution_count": 16,
   "metadata": {},
   "outputs": [
    {
     "name": "stdout",
     "output_type": "stream",
     "text": [
      "输入一个数字：153\n",
      "这是一个水仙花数\n"
     ]
    }
   ],
   "source": [
    "num = eval(input('输入一个数字：'))\n",
    "num1 = num % 10 \n",
    "num2 = (num // 10) % 10\n",
    "num3 = num // 100\n",
    "if num1**3 + num2**3 + num3**3 == num:\n",
    "    print('这是一个水仙花数')\n",
    "else:\n",
    "    print('不是水仙花数')"
   ]
  },
  {
   "cell_type": "markdown",
   "metadata": {},
   "source": [
    "## 实例研究：彩票\n",
    "![](../Photo/41.png)"
   ]
  },
  {
   "cell_type": "code",
   "execution_count": 3,
   "metadata": {},
   "outputs": [
    {
     "name": "stdout",
     "output_type": "stream",
     "text": [
      "54\n",
      "输入一个两位数的数字：52\n",
      "三等奖，奖金为1000美元\n"
     ]
    }
   ],
   "source": [
    "import random\n",
    "random_num = random.randint(11,99)\n",
    "print(random_num)\n",
    "num = eval(input('输入一个两位数的数字：'))\n",
    "if num % 10 == random_num% 10 and num // 10 == random_num // 10:\n",
    "    print('一等奖，奖金为10000美元')\n",
    "elif ((num % 10 == random_num % 10)  or (num % 10 == random_num // 10) )and ((num // 10 == random_num // 10) or (num // 10 == random_num % 10)):\n",
    "    print('二等奖，奖金为3000,美元')\n",
    "elif (num % 10 == random_num % 10) or (num % 10 == random_num // 10) or (num // 10 == random_num // 10) or (num // 10 == random_num % 10):\n",
    "    print('三等奖，奖金为1000美元')\n",
    "else:\n",
    "    print('本次没有中奖！')"
   ]
  },
  {
   "cell_type": "markdown",
   "metadata": {},
   "source": [
    "# Homework\n",
    "- 1\n",
    "![](../Photo/42.png)"
   ]
  },
  {
   "cell_type": "code",
   "execution_count": 25,
   "metadata": {},
   "outputs": [
    {
     "name": "stdout",
     "output_type": "stream",
     "text": [
      "输入a,b,c的值：1.0,3,1\n",
      "方程有两个根： -0.381966 -2.61803\n"
     ]
    }
   ],
   "source": [
    "import math\n",
    "a,b,c = eval(input('输入a,b,c的值：'))\n",
    "panbieshi = b**2 - 4*a*c\n",
    "if panbieshi > 0:\n",
    "    r1 = (-b + math.sqrt(panbieshi)) / (2*a)\n",
    "    r2 = (-b - math.sqrt(panbieshi)) / (2*a)\n",
    "    print('方程有两个根：',round(r1,6),round(r2,5))\n",
    "elif panbieshi == 0:\n",
    "    r1 = (-b + math.sqrt(panbieshi)) / (2*a)\n",
    "    print('方程只有一个根：',r1)\n",
    "elif panbieshi < 0:\n",
    "    print('方程没有根')"
   ]
  },
  {
   "cell_type": "markdown",
   "metadata": {},
   "source": [
    "- 2\n",
    "![](../Photo/43.png)"
   ]
  },
  {
   "cell_type": "code",
   "execution_count": 3,
   "metadata": {},
   "outputs": [
    {
     "name": "stdout",
     "output_type": "stream",
     "text": [
      "21 59\n",
      "输入两个100以内的整数之和：80\n",
      "真\n"
     ]
    }
   ],
   "source": [
    "import random\n",
    "num1 = random.randint(0,99)\n",
    "num2 = random.randint(0,99)\n",
    "print(num1,num2)\n",
    "while True:\n",
    "    sum_ = eval(input('输入两个100以内的整数之和：'))\n",
    "    if sum_ == num1+num2:\n",
    "        print('真')\n",
    "        break\n",
    "    else:\n",
    "        print('假')\n",
    "    "
   ]
  },
  {
   "cell_type": "markdown",
   "metadata": {},
   "source": [
    "- 3\n",
    "![](../Photo/44.png)"
   ]
  },
  {
   "cell_type": "code",
   "execution_count": 1,
   "metadata": {},
   "outputs": [
    {
     "name": "stdout",
     "output_type": "stream",
     "text": [
      "今天是本周的哪一天：1\n",
      "今天到未来某天的天数：3\n",
      "今天是Monday 3天之后是 Thursday\n"
     ]
    }
   ],
   "source": [
    "today = eval(input('今天是本周的哪一天：'))\n",
    "future_days = eval(input('今天到未来某天的天数：'))\n",
    "#if future_days < 7:1\n",
    "a = ['Sunday','Monday','Tuesday','Wednesday','Thursday','Fraday','Saturday']\n",
    "b = today + future_days\n",
    "print('今天是'+ a[today],str(future_days)+'天之后是',a[b])"
   ]
  },
  {
   "cell_type": "markdown",
   "metadata": {},
   "source": [
    "- 4\n",
    "![](../Photo/45.png)"
   ]
  },
  {
   "cell_type": "code",
   "execution_count": 4,
   "metadata": {},
   "outputs": [
    {
     "name": "stdout",
     "output_type": "stream",
     "text": [
      "请输入三个整数：715\n",
      "排序后的数字列表为：[1, 5, 7]\n"
     ]
    }
   ],
   "source": [
    "number = input('请输入三个整数：')\n",
    "number_list = list(map(int,list(number)))\n",
    "number_list.sort()\n",
    "print('排序后的数字列表为：%s' % number_list)"
   ]
  },
  {
   "cell_type": "markdown",
   "metadata": {},
   "source": [
    "- 5\n",
    "![](../Photo/46.png)"
   ]
  },
  {
   "cell_type": "code",
   "execution_count": 8,
   "metadata": {},
   "outputs": [
    {
     "name": "stdout",
     "output_type": "stream",
     "text": [
      "输入第一种包装大米的重量和价钱：50,24.59\n",
      "输入第二种包装大米的重量和价钱：25,11.99\n",
      "第二种包装的大米价格好\n"
     ]
    }
   ],
   "source": [
    "weight1,price1 = eval(input('输入第一种包装大米的重量和价钱：'))\n",
    "weight2,price2 = eval(input('输入第二种包装大米的重量和价钱：'))\n",
    "单价1 = weight1 / price1\n",
    "单价2 = weight2 / price2\n",
    "if 单价1 > 单价2:\n",
    "    print('第一种包装的大米价格好')\n",
    "else :\n",
    "    print('第二种包装的大米价格好')"
   ]
  },
  {
   "cell_type": "markdown",
   "metadata": {},
   "source": [
    "- 6\n",
    "![](../Photo/47.png)"
   ]
  },
  {
   "cell_type": "code",
   "execution_count": 3,
   "metadata": {},
   "outputs": [
    {
     "name": "stdout",
     "output_type": "stream",
     "text": [
      "输入月份和年份：1,2000\n",
      "2000年1月有31天\n"
     ]
    }
   ],
   "source": [
    "month,year = eval(input('输入月份和年份：'))\n",
    "a = [1,3,5,7,8,10,12]\n",
    "b = [4,6,9,11]\n",
    "c = [2]\n",
    "if month in a:\n",
    "    print(str(year)+'年'+str(month)+'月有31天')\n",
    "elif month in b:\n",
    "    print(str(year)+'年'+str(month)+'月有30天')\n",
    "elif month in c:\n",
    "    if (year % 4 == 0 and year % 100 != 0) or (year % 400 == 0):\n",
    "        print(str(year)+'年'+str(month)+'月有29天')\n",
    "    else:\n",
    "        print(str(year)+'年'+str(month)+'月有28天')"
   ]
  },
  {
   "cell_type": "markdown",
   "metadata": {},
   "source": [
    "- 7\n",
    "![](../Photo/48.png)"
   ]
  },
  {
   "cell_type": "code",
   "execution_count": 4,
   "metadata": {
    "scrolled": true
   },
   "outputs": [
    {
     "name": "stdout",
     "output_type": "stream",
     "text": [
      "猜测硬币的正反面:0\n",
      "猜测正确\n"
     ]
    }
   ],
   "source": [
    "import random\n",
    "b = random.randint(0,1)\n",
    "a = eval(input('猜测硬币的正反面:'))\n",
    "if a == b:\n",
    "    print('猜测正确')\n",
    "else:\n",
    "    print('猜测错误')"
   ]
  },
  {
   "cell_type": "markdown",
   "metadata": {},
   "source": [
    "- 8\n",
    "![](../Photo/49.png)"
   ]
  },
  {
   "cell_type": "code",
   "execution_count": 12,
   "metadata": {},
   "outputs": [
    {
     "name": "stdout",
     "output_type": "stream",
     "text": [
      "1\n",
      "输入0、1或2：0\n",
      "你输了\n"
     ]
    }
   ],
   "source": [
    "#0 剪刀\n",
    "#1 石头\n",
    "#2 步\n",
    "import random\n",
    "a = random.randint(0,2)\n",
    "print(a)\n",
    "input_ = eval(input('输入0、1或2：'))\n",
    "if (a == 0 and input_ == 0) or (a == 1 and input == 1) or (a == 2 and input_ == 2):\n",
    "    print('平局')\n",
    "elif (a == 0 and input_ == 1) or (a == 1 and input_ == 2) or (a == 2 and input_ == 0):\n",
    "    print('你赢了')\n",
    "elif (a == 0 and input_ == 2) or (a == 1 and input_ == 0) or (a == 2 and input_ == 0):\n",
    "    print('你输了')"
   ]
  },
  {
   "cell_type": "markdown",
   "metadata": {},
   "source": [
    "- 9\n",
    "![](../Photo/50.png)"
   ]
  },
  {
   "cell_type": "code",
   "execution_count": null,
   "metadata": {},
   "outputs": [],
   "source": [
    "year = eval(input('输入年份：'))\n",
    "m = eval(input('输入月份：'))\n",
    "q = eval(input('输入第几天：'))\n",
    "k = year % 100\n",
    "j = year / 100\n",
    "h = (q + (26 * (m+1))/10 + k + k/4 + j/4 + 5*j) % 7\n",
    "a = ['Sunday','Monday','Tuesday','Wednesday','Thursday','Friday','Saturday']\n",
    "print('今天是',a[h])\n"
   ]
  },
  {
   "cell_type": "markdown",
   "metadata": {},
   "source": [
    "- 10\n",
    "![](../Photo/51.png)"
   ]
  },
  {
   "cell_type": "code",
   "execution_count": 5,
   "metadata": {},
   "outputs": [
    {
     "name": "stdout",
     "output_type": "stream",
     "text": [
      "你抽到的牌是：红桃King\n"
     ]
    }
   ],
   "source": [
    "import random\n",
    "num1 = random.randint(1,13)\n",
    "num2 = random.randint(1,4)\n",
    "b = ['梅花','红桃','方块','黑桃']\n",
    "a = ['Ace','2','3','4','5','6','7','8','9','10','Jack','Queen','King']\n",
    "print('你抽到的牌是：' +  b[num2] + a[num1])"
   ]
  },
  {
   "cell_type": "markdown",
   "metadata": {},
   "source": [
    "- 11\n",
    "![](../Photo/52.png)"
   ]
  },
  {
   "cell_type": "code",
   "execution_count": 10,
   "metadata": {},
   "outputs": [
    {
     "name": "stdout",
     "output_type": "stream",
     "text": [
      "输入一个三位整数：123\n",
      "不是回文数\n"
     ]
    }
   ],
   "source": [
    "num = eval(input('输入一个三位整数：'))\n",
    "num1 = num % 10 \n",
    "num2 = (num // 10) % 10\n",
    "num3 = num // 100\n",
    "if num1 == num3:\n",
    "    print('这是一个回文数')\n",
    "else:\n",
    "    print('不是回文数')"
   ]
  },
  {
   "cell_type": "markdown",
   "metadata": {},
   "source": [
    "- 12\n",
    "![](../Photo/53.png)"
   ]
  },
  {
   "cell_type": "code",
   "execution_count": 11,
   "metadata": {},
   "outputs": [
    {
     "name": "stdout",
     "output_type": "stream",
     "text": [
      "输入三角形的三条边长：1,1,1\n",
      "输入合法\n",
      "三角形周长是：3\n"
     ]
    }
   ],
   "source": [
    "a,b,c = eval(input('输入三角形的三条边长：'))\n",
    "\n",
    "if (a + b >= c) and (a + c >= b) and (b + c >= a):\n",
    "    sum_ = a + b + c\n",
    "    print('输入合法')\n",
    "    print('三角形周长是：'+str(sum_))\n",
    "else:\n",
    "    print('输入不合法')\n",
    "    "
   ]
  }
 ],
 "metadata": {
  "kernelspec": {
   "display_name": "Python 3",
   "language": "python",
   "name": "python3"
  },
  "language_info": {
   "codemirror_mode": {
    "name": "ipython",
    "version": 3
   },
   "file_extension": ".py",
   "mimetype": "text/x-python",
   "name": "python",
   "nbconvert_exporter": "python",
   "pygments_lexer": "ipython3",
   "version": "3.6.4"
  }
 },
 "nbformat": 4,
 "nbformat_minor": 2
}
