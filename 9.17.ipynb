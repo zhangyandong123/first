{
 "cells": [
  {
   "cell_type": "markdown",
   "metadata": {},
   "source": [
    "# 对象和类\n",
    "- 一个学生，一张桌子，一个圆都是对象\n",
    "- 对象是类的一个实例，你可以创建多个对象，创建类的一个实例过程被称为实例化，\n",
    "- 在Python中对象就是实例，而实例就是对象"
   ]
  },
  {
   "cell_type": "markdown",
   "metadata": {},
   "source": [
    "## 定义类\n",
    "class ClassName:\n",
    "\n",
    "    do something\n",
    "    \n",
    "- class 类的表示与def 一样\n",
    "- 类名最好使用驼峰式\n",
    "- 在Python2中类是需要继承基类object的，在Python中默认继承，可写可不写\n",
    "- 可以将普通代码理解为皮肤，而函数可以理解为内衣，那么类可以理解为外套"
   ]
  },
  {
   "cell_type": "code",
   "execution_count": null,
   "metadata": {},
   "outputs": [],
   "source": [
    "#python2中\n",
    "class ClassName(object):\n",
    "    do something"
   ]
  },
  {
   "cell_type": "code",
   "execution_count": null,
   "metadata": {},
   "outputs": [],
   "source": [
    "#python3中\n",
    "class ClassName:\n",
    "    do something"
   ]
  },
  {
   "cell_type": "markdown",
   "metadata": {},
   "source": [
    "## 定义一个不含初始化__init__的简单类\n",
    "class ClassName:\n",
    "\n",
    "    joker = “Home”\n",
    "    \n",
    "    def func():\n",
    "        print('Worker')\n",
    "    \n",
    "- 尽量少使用"
   ]
  },
  {
   "cell_type": "code",
   "execution_count": 1,
   "metadata": {},
   "outputs": [],
   "source": [
    "class ClassName:\n",
    "    joker = \"Home\"\n",
    "\n",
    "    def func():\n",
    "        print('Worker')"
   ]
  },
  {
   "cell_type": "code",
   "execution_count": 2,
   "metadata": {
    "scrolled": true
   },
   "outputs": [
    {
     "name": "stdout",
     "output_type": "stream",
     "text": [
      "Worker\n"
     ]
    }
   ],
   "source": [
    "#之前用“.”调用，就是调用\n",
    "ClassName.func()"
   ]
  },
  {
   "cell_type": "code",
   "execution_count": 2,
   "metadata": {},
   "outputs": [
    {
     "name": "stdout",
     "output_type": "stream",
     "text": [
      "pygame 1.9.4\n",
      "Hello from the pygame community. https://www.pygame.org/contribute.html\n"
     ]
    }
   ],
   "source": [
    "#播放音乐\n",
    "import pygame\n",
    "class Bofang:\n",
    "    def song():\n",
    "        pygame.mixer.init()\n",
    "        #print(\"播放音乐2\")\n",
    "        track1=pygame.mixer.music.load(\"郭顶 - 情歌两三首.mp3\")\n",
    "        pygame.mixer.music.play()\n",
    "       "
   ]
  },
  {
   "cell_type": "code",
   "execution_count": 3,
   "metadata": {},
   "outputs": [],
   "source": [
    "Bofang.song()"
   ]
  },
  {
   "cell_type": "markdown",
   "metadata": {},
   "source": [
    "## 定义一个标准类\n",
    "- __init__ 代表初始化，可以初始化任何动作\n",
    "- 此时类调用要使用()，其中（）可以理解为开始初始化\n",
    "- 初始化内的元素，类中其他的函数可以共享\n",
    "![](../Photo/85.png)"
   ]
  },
  {
   "cell_type": "code",
   "execution_count": 9,
   "metadata": {},
   "outputs": [],
   "source": [
    "class Class_name:\n",
    "    def __init__(self):\n",
    "        self.a='hahaha'\n",
    "    def fun1(self):\n",
    "        print(self.a)"
   ]
  },
  {
   "cell_type": "code",
   "execution_count": 10,
   "metadata": {},
   "outputs": [
    {
     "name": "stdout",
     "output_type": "stream",
     "text": [
      "hahaha\n"
     ]
    }
   ],
   "source": [
    "Class_name().fun1()"
   ]
  },
  {
   "cell_type": "code",
   "execution_count": 12,
   "metadata": {},
   "outputs": [],
   "source": [
    "class Shuchu:\n",
    "    def __init__(self):   #初始化自己\n",
    "        self.a = 10   #赋值\n",
    "    def fun1(self):\n",
    "        print(self.a**2)\n",
    "    def fun2(self):\n",
    "        print(self.a **3)\n",
    "    def fun3(self):\n",
    "        print(self.a**3-self.a**2)"
   ]
  },
  {
   "cell_type": "code",
   "execution_count": 13,
   "metadata": {
    "scrolled": true
   },
   "outputs": [
    {
     "name": "stdout",
     "output_type": "stream",
     "text": [
      "100\n",
      "1000\n",
      "900\n"
     ]
    }
   ],
   "source": [
    "Shuchu().fun1()\n",
    "Shuchu().fun2()\n",
    "Shuchu().fun3()"
   ]
  },
  {
   "cell_type": "code",
   "execution_count": 14,
   "metadata": {},
   "outputs": [],
   "source": [
    "class Shuchu:\n",
    "    def __init__(self):   #初始化自己\n",
    "        self.a = 10   #赋值\n",
    "        self.b = 10\n",
    "        self.m = None\n",
    "        self.n = None\n",
    "    def pow2(self):\n",
    "        self.m = self.a**2\n",
    "        print(self.m)\n",
    "    def pow3(self):\n",
    "        self.n = self.b**3\n",
    "        print(self.n)\n",
    "    def minus(self):\n",
    "        print(self.n-self.m)"
   ]
  },
  {
   "cell_type": "code",
   "execution_count": 15,
   "metadata": {},
   "outputs": [
    {
     "name": "stdout",
     "output_type": "stream",
     "text": [
      "100\n",
      "1000\n",
      "900\n"
     ]
    }
   ],
   "source": [
    "#创建一个实例\n",
    "A=Shuchu()   #A就相当于初始化后的Shuchu\n",
    "A.pow2()   # != Shuchu().pow2\n",
    "A.pow3()\n",
    "A.minus()"
   ]
  },
  {
   "cell_type": "code",
   "execution_count": 21,
   "metadata": {},
   "outputs": [],
   "source": [
    "class Shuchu:\n",
    "    def __init__(self):   #初始化自己\n",
    "        self.a = 10   #赋值\n",
    "        self.b = 10\n",
    "        self.m = None\n",
    "        self.n = None \n",
    "    def pow2(self):\n",
    "        self.m = self.a**2\n",
    "        print(self.m)\n",
    "    def pow3(self):\n",
    "        self.n = self.b**3\n",
    "        print(self.n)\n",
    "    def minus(self):\n",
    "        self.pow2()\n",
    "        self.pow3()\n",
    "        print(self.n-self.m)"
   ]
  },
  {
   "cell_type": "code",
   "execution_count": 22,
   "metadata": {
    "scrolled": true
   },
   "outputs": [
    {
     "name": "stdout",
     "output_type": "stream",
     "text": [
      "100\n",
      "1000\n",
      "900\n"
     ]
    }
   ],
   "source": [
    "Shuchu().minus()"
   ]
  },
  {
   "cell_type": "code",
   "execution_count": 34,
   "metadata": {},
   "outputs": [],
   "source": [
    "#定义一个类，计算随机数的最大值和最小值\n",
    "import random\n",
    "class Suijishu:\n",
    "    def __init__(self):\n",
    "        self.num1 = random.randint(1,10)\n",
    "        self.num2 = random.randint(1,10)\n",
    "        self.num3 = random.randint(1,10)\n",
    "    def max_(self):\n",
    "        print(self.num1,self.num2,self.num3)\n",
    "        print(max(self.num1,self.num2,self.num3))\n",
    "    def min_(self):\n",
    "        print(self.num1,self.num2,self.num3)\n",
    "        print(min(self.num1,self.num2,self.num3))      "
   ]
  },
  {
   "cell_type": "code",
   "execution_count": 35,
   "metadata": {},
   "outputs": [
    {
     "name": "stdout",
     "output_type": "stream",
     "text": [
      "2 1 10\n",
      "10\n",
      "2 1 10\n",
      "1\n"
     ]
    }
   ],
   "source": [
    "A= Suijishu()\n",
    "A.max_()\n",
    "A.min_()"
   ]
  },
  {
   "cell_type": "markdown",
   "metadata": {},
   "source": [
    "- Circle 和 className_ 的第一个区别有 __init__ 这个函数\n",
    "- 。。。。   第二个区别，类中的每一个函数都有self的这个“参数”"
   ]
  },
  {
   "cell_type": "markdown",
   "metadata": {},
   "source": [
    "## 何为self？\n",
    "- self 是指向对象本身的参数\n",
    "- self 只是一个命名规则，其实可以改变的，但是我们约定俗成的是self，也便于理解\n",
    "- 使用了self就可以访问类中定义的成员\n",
    "<img src=\"../Photo/86.png\"></img>"
   ]
  },
  {
   "cell_type": "markdown",
   "metadata": {},
   "source": [
    "## 使用类 Cirlcle"
   ]
  },
  {
   "cell_type": "markdown",
   "metadata": {},
   "source": [
    "## 类的传参\n",
    "- class ClassName:\n",
    "    \n",
    "        def __init__(self, para1,para2...)：\n",
    "            \n",
    "            self.para1 = para1\n",
    "            \n",
    "            self.para2 = para2"
   ]
  },
  {
   "cell_type": "code",
   "execution_count": 26,
   "metadata": {},
   "outputs": [],
   "source": [
    "class Shuchu:\n",
    "    def __init__(self,num1,num2):   #初始化自己  想要参数共享，就必须写在init里\n",
    "        self.a = num1   #赋值\n",
    "        self.b = num2\n",
    "        #self.m = None\n",
    "        #self.n = None\n",
    "    def pow2(self):\n",
    "        self.m = self.a**2\n",
    "        print(self.m)\n",
    "    def pow3(self):\n",
    "        self.n = self.b**3\n",
    "        print(self.n)\n",
    "    def minus(self):\n",
    "        m = self.a**2\n",
    "        n = self.b**3\n",
    "        print(n-m)"
   ]
  },
  {
   "cell_type": "code",
   "execution_count": 27,
   "metadata": {},
   "outputs": [
    {
     "name": "stdout",
     "output_type": "stream",
     "text": [
      "900\n"
     ]
    }
   ],
   "source": [
    "Shuchu(num1= 10,num2=10).minus()"
   ]
  },
  {
   "cell_type": "markdown",
   "metadata": {},
   "source": [
    "## EP:\n",
    "- A：定义一个类，类中含有两个功能：\n",
    "    - 1、计算随机数的最大值\n",
    "    - 2、计算随机数的最小值\n",
    "- B：定义一个类，（类中函数的嵌套使用）\n",
    "    - 1、第一个函数的功能为：输入一个数字\n",
    "    - 2、第二个函数的功能为：使用第一个函数中得到的数字进行平方处理\n",
    "    - 3、第三个函数的功能为：得到平方处理后的数字 - 原来输入的数字，并打印结果"
   ]
  },
  {
   "cell_type": "markdown",
   "metadata": {},
   "source": [
    "## 类的继承\n",
    "- 类的单继承\n",
    "- 类的多继承\n",
    "- 继承标识\n",
    ">  class SonClass(FatherClass):\n",
    "            \n",
    "            def __init__(self):\n",
    "            \n",
    "                FatherClass.__init__(self)"
   ]
  },
  {
   "cell_type": "code",
   "execution_count": 63,
   "metadata": {},
   "outputs": [
    {
     "name": "stdout",
     "output_type": "stream",
     "text": [
      "900\n"
     ]
    }
   ],
   "source": [
    "'''\n",
    "父类\n",
    "\n",
    "'''\n",
    "class Father_class1:\n",
    "    def __init__(self,num1,num2):\n",
    "        self.num1 = num1\n",
    "        self.num2 = num2\n",
    "        self.res1 = None\n",
    "        self.res2 = None\n",
    "    def pow2_pow3(self):\n",
    "        self.res1 = self.num1 ** 2\n",
    "        self.res2 = self.num2 ** 3\n",
    "class Cz(Father_class1):\n",
    "    def __init__(self,num1,num2):\n",
    "        Father_class1.__init__(self,num1,num2)\n",
    "    def chazhi(self):\n",
    "        print(self.res2-self.res1)\n",
    "A = Cz(10,10)\n",
    "A.pow2_pow3()\n",
    "A.chazhi()    "
   ]
  },
  {
   "cell_type": "code",
   "execution_count": 59,
   "metadata": {},
   "outputs": [],
   "source": [
    "class pingfang:\n",
    "    def __init__(self,num1):\n",
    "        self.a = num1\n",
    "        #self.b = num2\n",
    "        self.res1= None\n",
    "    def pow2(self):\n",
    "        self.res1 = self.a **2"
   ]
  },
  {
   "cell_type": "code",
   "execution_count": 60,
   "metadata": {},
   "outputs": [],
   "source": [
    "class lifang:\n",
    "    def __init__(self,num2):\n",
    "        #self.a = num1\n",
    "        self.b = num2\n",
    "        self.res2= None\n",
    "    def pow3(self):\n",
    "        self.res2 = self.a **3"
   ]
  },
  {
   "cell_type": "code",
   "execution_count": 61,
   "metadata": {},
   "outputs": [],
   "source": [
    "class Chazhi(pingfang,lifang):\n",
    "    def __init__(self,num1,num2):\n",
    "        pingfang.__init__(self,num1)\n",
    "        lifang.__init__(self,num2)\n",
    "    def chazhi(self):\n",
    "        print(self.res1,self.res2)\n",
    "        print(self.res2-self.res1)"
   ]
  },
  {
   "cell_type": "code",
   "execution_count": 62,
   "metadata": {},
   "outputs": [
    {
     "name": "stdout",
     "output_type": "stream",
     "text": [
      "100 1000\n",
      "900\n"
     ]
    }
   ],
   "source": [
    "A = Chazhi(10,10)\n",
    "A.pow2()\n",
    "A.pow3()\n",
    "A.chazhi()"
   ]
  },
  {
   "cell_type": "markdown",
   "metadata": {},
   "source": [
    "## 私有数据域(私有变量，或者私有函数)\n",
    "- 在Python中 变量名或者函数名使用双下划线代表私有  \\__Joker,   def \\__Joker():\n",
    "- 私有数据域不可继承\n",
    "- 私有数据域强制继承   \\__dir__()"
   ]
  },
  {
   "cell_type": "markdown",
   "metadata": {},
   "source": [
    "![](../Photo/87.png)"
   ]
  },
  {
   "cell_type": "markdown",
   "metadata": {},
   "source": [
    "## EP:\n",
    "![](../Photo/88.png)\n",
    "![](../Photo/89.png)\n",
    "![](../Photo/90.png)\n"
   ]
  },
  {
   "cell_type": "markdown",
   "metadata": {},
   "source": [
    "## 类的其他\n",
    "- 类的封装\n",
    "    - 实际上就是将一类功能放在一起，方便未来进行管理\n",
    "- 类的继承（上面已经讲过）\n",
    "- 类的多态\n",
    "    - 包括装饰器：将放在以后处理高级类中教\n",
    "    - 装饰器的好处：当许多类中的函数需要使用同一个功能的时候，那么使用装饰器就会方便许多\n",
    "    - 装饰器是有固定的写法\n",
    "        - 其包括普通装饰器与带参装饰器"
   ]
  },
  {
   "cell_type": "markdown",
   "metadata": {},
   "source": [
    "# Homewor\n",
    "## UML类图可以不用画\n",
    "## UML 实际上就是一个思维图\n",
    "- 1\n",
    "![](../Photo/91.png)"
   ]
  },
  {
   "cell_type": "code",
   "execution_count": 10,
   "metadata": {
    "scrolled": true
   },
   "outputs": [],
   "source": [
    "class Rectangle:\n",
    "    def __init__(self,withd=1,height=2):\n",
    "        self.width = withd\n",
    "        self.height = height\n",
    "    def getArea(self):\n",
    "        print('矩形的宽为：',self.width)\n",
    "        print('矩形的高为：',self.height)\n",
    "        print('矩形面积为：',self.width*self.height)\n",
    "    def getPerimeter(self):\n",
    "        print('矩形周长为：',2*self.width+2*self.height)"
   ]
  },
  {
   "cell_type": "code",
   "execution_count": 12,
   "metadata": {
    "scrolled": true
   },
   "outputs": [
    {
     "name": "stdout",
     "output_type": "stream",
     "text": [
      "矩形的宽为： 4\n",
      "矩形的高为： 40\n",
      "矩形面积为： 160\n",
      "矩形周长为： 88\n"
     ]
    }
   ],
   "source": [
    "A=Rectangle(4,40)\n",
    "A.getArea()\n",
    "A.getPerimeter()"
   ]
  },
  {
   "cell_type": "code",
   "execution_count": 14,
   "metadata": {},
   "outputs": [
    {
     "name": "stdout",
     "output_type": "stream",
     "text": [
      "矩形的宽为： 3.5\n",
      "矩形的高为： 35.7\n",
      "矩形面积为： 124.95000000000002\n",
      "矩形周长为： 78.4\n"
     ]
    }
   ],
   "source": [
    "B=Rectangle(3.5,35.7)\n",
    "B.getArea()\n",
    "B.getPerimeter()"
   ]
  },
  {
   "cell_type": "markdown",
   "metadata": {},
   "source": [
    "- 2\n",
    "![](../Photo/92.png)"
   ]
  },
  {
   "cell_type": "code",
   "execution_count": null,
   "metadata": {},
   "outputs": [],
   "source": [
    "class Account:\n",
    "    def __init__(self,id_=0,balance=100,annuallnterstRate=0):\n",
    "        self.__id = id_\n",
    "        self.__balance = balance\n",
    "        self.__annuallnterstRate = annuallnterstRate\n",
    "    def getMonthlyInterestRate(self):\n",
    "        monthlyInterestRate = self.annuallnterstRate / 100 / 12\n",
    "        print('月利率为：',monthlyInterestRate)\n",
    "    def getMonthlyInterest(self):\n",
    "        print('月利息为：',balance*monthlyInterestRate)\n",
    "    def withdraw(self):\n",
    "        account = balance*monthlyInterestRate*balance*monthlyInterestRate\n",
    "       \n",
    "        print()\n",
    "        "
   ]
  },
  {
   "cell_type": "markdown",
   "metadata": {},
   "source": [
    "- 3\n",
    "![](../Photo/93.png)"
   ]
  },
  {
   "cell_type": "code",
   "execution_count": 34,
   "metadata": {},
   "outputs": [],
   "source": [
    "class Fan:\n",
    "    def __init__(self,speed=1,on=False,radius=5,color='blue'):\n",
    "        if speed == 1:\n",
    "            self.__speed = 'SLOW'\n",
    "        elif speed == 2:\n",
    "            self.__speed = 'MEDIUM'\n",
    "        else:\n",
    "            self.__speed = 'FAST'\n",
    "        self.__on = on\n",
    "        self.__radius = radius\n",
    "        self.__color = color\n",
    "    def getSpeed(self):\n",
    "        print('风速：',self.__speed)\n",
    "    def getOn(self):\n",
    "        print('是否打开：',self.__on)\n",
    "    def getRadius(self):\n",
    "        print('半径：',self.__radius)\n",
    "    def getColor(self):\n",
    "        print('颜色：',self.__color)\n",
    "        "
   ]
  },
  {
   "cell_type": "code",
   "execution_count": 35,
   "metadata": {},
   "outputs": [
    {
     "name": "stdout",
     "output_type": "stream",
     "text": [
      "风速： FAST\n",
      "是否打开： True\n",
      "半径： 10\n",
      "颜色： yellow\n"
     ]
    }
   ],
   "source": [
    "A = Fan(3,True,10,'yellow')\n",
    "A.getSpeed()\n",
    "A.getOn()\n",
    "A.getRadius()\n",
    "A.getColor()"
   ]
  },
  {
   "cell_type": "code",
   "execution_count": 36,
   "metadata": {},
   "outputs": [
    {
     "name": "stdout",
     "output_type": "stream",
     "text": [
      "风速： MEDIUM\n",
      "是否打开： False\n",
      "半径： 5\n",
      "颜色： bule\n"
     ]
    }
   ],
   "source": [
    "B = Fan(2,False,5,'bule')\n",
    "B.getSpeed()\n",
    "B.getOn()\n",
    "B.getRadius()\n",
    "B.getColor()"
   ]
  },
  {
   "cell_type": "markdown",
   "metadata": {},
   "source": [
    "- 4\n",
    "![](../Photo/94.png)\n",
    "![](../Photo/95.png)"
   ]
  },
  {
   "cell_type": "code",
   "execution_count": 60,
   "metadata": {},
   "outputs": [],
   "source": [
    "import math\n",
    "class RegularPolygon:\n",
    "    def __init__(self,n=3,side=1,x=0,y=0):\n",
    "        self.__n = n\n",
    "        self.__side = side\n",
    "        self.__x = x\n",
    "        self.__y = y\n",
    "        self.round = None\n",
    "        self.area = None\n",
    "    def getPerimeter(self):\n",
    "        self.round = self.__n*self.__side\n",
    "        print('边长为',self.__side,'的正',self.__n,'边形的周长为：',self.round)\n",
    "    def getArea(self):\n",
    "        self.area = (self.__n*self.__side**2) / (4*math.tan(math.pi/self.__n))\n",
    "        print('边长为',self.__side,'的正',self.__n,'边形的面积为：',self.area)"
   ]
  },
  {
   "cell_type": "code",
   "execution_count": 61,
   "metadata": {},
   "outputs": [
    {
     "name": "stdout",
     "output_type": "stream",
     "text": [
      "边长为 1 的正 3 边形的周长为： 3\n",
      "边长为 1 的正 3 边形的面积为： 0.43301270189221946\n"
     ]
    }
   ],
   "source": [
    "RegularPolygon().getPerimeter()\n",
    "RegularPolygon().getArea()"
   ]
  },
  {
   "cell_type": "code",
   "execution_count": 62,
   "metadata": {
    "scrolled": true
   },
   "outputs": [
    {
     "name": "stdout",
     "output_type": "stream",
     "text": [
      "边长为 4 的正 6 边形的周长为： 24\n",
      "边长为 4 的正 6 边形的面积为： 41.569219381653056\n"
     ]
    }
   ],
   "source": [
    "RegularPolygon(6,4).getPerimeter()\n",
    "RegularPolygon(6,4).getArea()"
   ]
  },
  {
   "cell_type": "code",
   "execution_count": 63,
   "metadata": {},
   "outputs": [
    {
     "name": "stdout",
     "output_type": "stream",
     "text": [
      "边长为 4 的正 10 边形的周长为： 40\n",
      "边长为 4 的正 10 边形的面积为： 123.10734148701015\n"
     ]
    }
   ],
   "source": [
    "RegularPolygon(10,4,5.6,7.8).getPerimeter()\n",
    "RegularPolygon(10,4,5.6,7.8).getArea()"
   ]
  },
  {
   "cell_type": "markdown",
   "metadata": {},
   "source": [
    "- 5\n",
    "![](../Photo/96.png)"
   ]
  },
  {
   "cell_type": "code",
   "execution_count": 20,
   "metadata": {},
   "outputs": [],
   "source": [
    "class LinearEquation:\n",
    "    def __init__(self,a,b,c,d,e,f):\n",
    "        self.__a = a\n",
    "        self.__b = b\n",
    "        self.__c = c\n",
    "        self.__d = d\n",
    "        self.__e = e\n",
    "        self.__f = f\n",
    "        self.x = None\n",
    "        self.y = None\n",
    "    def getA(self):\n",
    "        return self.__a\n",
    "    def getB(self):\n",
    "        return self.__b\n",
    "    def getC(self):\n",
    "        return self.__c\n",
    "    def getD(self):\n",
    "        return self.__d\n",
    "    def getE(self):\n",
    "        return self.__e\n",
    "    def getF(self):\n",
    "        return self.__f\n",
    "    def isSolvable(self):\n",
    "        if self.__a*self.__d - self.__b*self.__c != 0:\n",
    "            print(True)\n",
    "        else:\n",
    "            print(False)\n",
    "    def getX(self):\n",
    "            self.x=(self.__e*self.__d-self.__b*self.__f)/(self.__a*self.__d-self.__b*self.__c)\n",
    "            print(self.x)\n",
    "    def getY(self):\n",
    "            self.y = (self.__a*self.__f-self.__e*self.__c)/(self.__a*self.__d-self.__b*self.__c)\n",
    "            print(self.y)"
   ]
  },
  {
   "cell_type": "code",
   "execution_count": 21,
   "metadata": {},
   "outputs": [],
   "source": [
    "class Shuchu():\n",
    "    def __init__(self,a,b,c,d,e,f):\n",
    "        LinearEquation.__init__(self,a,b,c,d,e,f)\n",
    "    def panduan(self):\n",
    "        if self.__a*self.__d - self.__b*self.__c != 0:\n",
    "            print(self.x,self.y)\n",
    "        else:\n",
    "            print('此方程式无解')\n"
   ]
  },
  {
   "cell_type": "markdown",
   "metadata": {},
   "source": [
    "- 6\n",
    "![](../Photo/97.png)"
   ]
  },
  {
   "cell_type": "markdown",
   "metadata": {},
   "source": [
    "- 7\n",
    "![](../Photo/98.png)"
   ]
  }
 ],
 "metadata": {
  "kernelspec": {
   "display_name": "Python 3",
   "language": "python",
   "name": "python3"
  },
  "language_info": {
   "codemirror_mode": {
    "name": "ipython",
    "version": 3
   },
   "file_extension": ".py",
   "mimetype": "text/x-python",
   "name": "python",
   "nbconvert_exporter": "python",
   "pygments_lexer": "ipython3",
   "version": "3.6.4"
  }
 },
 "nbformat": 4,
 "nbformat_minor": 2
}
